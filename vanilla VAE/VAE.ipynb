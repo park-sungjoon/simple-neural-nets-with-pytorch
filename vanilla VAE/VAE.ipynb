{
 "cells": [
  {
   "cell_type": "markdown",
   "metadata": {},
   "source": [
    "# VAE review\n",
    "\n",
    "## Problem setup\n",
    "Let $X=\\{x^{(i)}\\}^{N}_{i=1}$ be the dataset. \n",
    "We assume that the data is generated probabilistically from an unobserved continuous variable $z$ (called the latent variable) as follows: \n",
    "$z^{(i)}$ (value of the latent variable for the data $i$) is first sampled from the prior distribution $p_{\\theta^*}(z)$ ($\\theta^*$ is the true value of the parameter). Then, $x^{(i)}$ is sampled from the conditional distribution $p_{\\theta^*}(x|z)$.\n",
    "Here, we know neither the value of $\\theta^*$ nor the value of the latent variable $z^{(i)}$ corresponding to the observed value $x^{(i)}$.\n",
    "\n",
    "For the above sampling process, the distribution of the data is given by the marginal likelihood $p_\\theta(x) = \\int p_\\theta(z) p_\\theta(x|z)dz$.\n",
    "Unfortunately, the integral is intractable.\n",
    "The posterior probability is given by $p_\\theta(z|x)=p_\\theta(x|z)p_\\theta(z)/p_\\theta(x)$, and it is also intractable.\n",
    "Therefore, the EM algorithm cannot be used (Recall that in the EM algorithm, in the E step we compute the posterior probability (and put $Q_{i}(z^{(i)})=p(z^{(i)}|x^{(i)};\\theta)$) and in the M step we maximize $\\sum_{i,z^{(i)}}Q_{i}(z^{(i)}) \\log p(x^{(i)},z^{(i)};\\theta)/Q_i(z^{(i)})$)\n",
    "\n",
    "We also assume a large dataset, so that updating parameters is costly (Monte Carlo methods for computing $Q$ is also too slow)."
   ]
  },
  {
   "cell_type": "markdown",
   "metadata": {},
   "source": [
    "## Variational solution:\n",
    "\n",
    "We want to find $\\theta$ such that $p_\\theta(x^{(1)},...,p_\\theta(x^{(N)})$ is maximized (maximum likelihood).\n",
    "Instead of directly finding $\\theta$ that maximizes this, we maximize a lower bound by introducing $q_\\phi (z|x)$ which approximates the posterior probability $p_\\theta(z|x)$.\n",
    "\n",
    "1. Note that $\\log p_\\theta(x^{(1)})...p_\\theta(x^{(N)}) = \\sum_{i=1}^N \\log p_\\theta(x^{(i)}) = \\sum_{i=1}^N \\sum_{z} q_\\phi (z|x^{(i)}) \\log \\frac{p_\\theta (x^{(i)}|z) p_\\theta(z)}{p_\\theta(z|x^{(i)})} \\frac{q_\\phi (z|x^{(i)})}{q_\\phi (z|x^{(i)})} = \\sum_{i=1}^{N}[ E_{z\\sim q} [\\log p_\\theta(x^{(i)}|z)] - D_{KL}(q_\\phi(z|x^{(i)})|| p_\\theta(z)) + D_{KL}(q_\\phi (z|x^{(i)})|| p_\\theta(z|x^{(i)})) ]$\n",
    "\n",
    "2. Define $L(\\theta, \\phi; x^{(i)}) = E_{z\\sim q} [\\log p_\\theta (x^{(i)}|z)] - D_{KL}(q_\\phi(z|x^{(i)})|| p_\\theta(z))$.\n",
    "$L$ is tractable, but $D_{KL}(q_\\phi (z|x^{(i)}) || p_\\theta(z|x^{(i)})) $ is not (recall that posterior probability distribution is intractible).\n",
    "Since $D_{KL}(q_\\phi (z|x^{(i)}) || p_\\theta(z|x^{(i)})) \\ge 0$, we maximize $L$ (lower bound of $p_\\theta$) instead of $p_\\theta(x^{(1)},...,x^{(N})$.\n",
    "Note that this can be interpreted as maximizing $\\log p_\\theta(x^{(1)},...,p_\\theta(x^{(N)})-D_{KL}(q_\\phi (z|x^{(i)}) || p_\\theta(z|x^{(i)}))$.\n",
    "Thus, we are roughly maximizing $p_\\theta(x^{(1)},...,p_\\theta(x^{(N)})$ while minimizing $D_{KL}(q_\\phi (z|x^{(i)})||p_\\theta(z|x^{(i)}))$."
   ]
  },
  {
   "cell_type": "markdown",
   "metadata": {},
   "source": [
    "In order to actually carry out the maximization process (gradient descent), we need to comment on the term $E_{z\\sim q} [\\log p_\\theta(x^{(i)}|z)]$.\n",
    "To minimize this value, we need to compute its gradient.\n",
    "However, the naive Monte Carlo approximation for the gradient $\\nabla_\\phi E_{q_\\phi(z)} [f(z)] = E_{q_\\phi(z)}[f(z) \\nabla_\\phi \\log q_\\phi (z)]$ exhibits a high variance."
   ]
  },
  {
   "cell_type": "markdown",
   "metadata": {},
   "source": [
    "3. This problem of computing the gradient is circumvented by using the reparametrization trick. Instead of using random variable $z$, which is distributed according to $q_\\phi (z|x^{(i)})$, we assume that $z=g_\\phi (\\epsilon,x)$ ($g$ is some function), where $\\epsilon$ is a random variable which is distribued according to $p(\\epsilon)$. Thus, $z$ is determined once we know $\\epsilon$ and $x$.\n",
    "Then, the Monte Carlo estimate is $E_{q_\\phi(z|x^{(i)})}[f(z)]] = E_{p(\\epsilon)}[f(g_\\phi (\\epsilon,x^{(i)}))] \\approx \\frac{1}{L} \\sum_{l=1}^{L} f(g_\\phi (\\epsilon^{(l)},x^{(i)}))$.\n",
    "This yields the following estimate for L:\n",
    "$L(\\theta,\\phi;x^{(i)}) \\approx L^A (\\theta, \\phi; x^{(i)}) = \\frac{1}{L}\\sum_{i=1}^{L} \\log p_\\theta(x^{(i)},z^{(i,l)})-\\log q_\\phi (z^{(i,l)}|x^{(i)})$\n",
    "where $z^{(i,l)} = g_\\phi (\\epsilon^{(i,l)},x^{(i)})$ and $\\epsilon \\sim p(\\epsilon)$\n",
    "\n",
    "Here, we note that it is often possible to analtyically compute the KL divergence term in $L$. \n",
    "In such a case, the sampling is not needed to find the gradient for the KL divergence term. This yields a second estimate for L:\n",
    "$L^{B}(\\theta,\\phi;x^{(i)})= -D_{KL} (q_\\phi (z|x^{(i)}) || p_\\theta(z)) + \\frac{1}{L} \\sum_{l=1}^{L} \\log p_\\theta (x^{(i)}|z^{(i,l)})$"
   ]
  },
  {
   "cell_type": "markdown",
   "metadata": {},
   "source": [
    "Now,suppose that we have a dataset $X$ with $N$ datapoints. Then, we can estimate L over the whole dataset based on minibatches $X^{M}$, consisting of M datapoints randomly drawn from $X$:\n",
    "$L(\\theta,\\phi;X) \\approx L^{M} (\\theta,\\phi;X^{M} = \\frac{N}{M} \\sum_{i=1}^{M} L(\\theta,\\phi;x^{(i)})$"
   ]
  },
  {
   "cell_type": "markdown",
   "metadata": {},
   "source": [
    "For the experiments in the paper, it is safe to choose $L=1$ as long as $M$ is large ($\\sim 100$)."
   ]
  },
  {
   "cell_type": "markdown",
   "metadata": {},
   "source": [
    "The Variationa Auto-Encoder:\n",
    "Use a neural network for $q_\\phi (z|x)$.\n",
    "Let $p_\\theta(z)=N(z;0,I)$ (multivariate Gaussian distribution with mean $0$ and variance given by the identity)\n",
    "In the original paper, the authors choose $p_\\theta (x|z)$ to be a multivariate Gaussian (for real-valued data) or a Bernouille distribution (for binary data) whose distribution parameters are computed from z using a multi-layered perceptron (fully connected network with single hidden layer.)\n",
    "The true posterior probability $p_\\theta (z|x)$ is intractable, but we assume that it takes the form of approximate Gaussian distribution with diagonal covariance:\n",
    "$\\log q_\\phi (z|x^{(i)}) = \\log N(z;\\mu^{(i)},\\sigma^{2i}I)$, where $\\mu^{(i)}$ and $\\sigma^{(i)}$ are outputs of MLP.\n",
    "When we assume this form for $q_\\phi (z|x^{(i)})$, $z^{(i,l)}=g_\\phi(x^{(i)},\\epsilon^{(l)})=\\mu^{(i)}+\\sigma^{(i)}\\cdot \\epsilon^{(l)}$ (here, $\\cdot$ is elementwise product)\n",
    "\n",
    "With this setup, the KL divergence in L can be computed analytically. Thus, we have\n",
    "$L(\\theta, \\phi, x^{(i)}) \\approx \\frac{1}{2} \\sum_{j=1}^{J} [1+\\log (\\sigma_{j}^{(i)})^2 - (\\mu_j^{(i)})^2 - (\\sigma_j^{(i)})^2] + \\frac{1}{L} \\sum_{l=1}^{L} \\log p_\\theta (x^{(i)}|z^{(i,l)})$"
   ]
  },
  {
   "cell_type": "markdown",
   "metadata": {},
   "source": [
    "For MNIST, we use Bernouille distribution for the decoder.\n",
    "Then, ($j$ is the pixel index, and there is a sum over pixel for the loss function) $\\log p_\\theta (x^{(i)}_j|z)=\\log \\theta_j^{x^{(i)}_j} (1-\\theta_j)^{1-x^{(i)}_j}$.\n",
    "Although $x^{(i)}_j$ should be 0 or 1 for Bernouille distribution, we use the pixel value of MNIST here for $x^{(i)}_j$. \n",
    "Then, the loss is given by binary cross entropy between image in MNIST and the probability outputed by decoder network."
   ]
  },
  {
   "cell_type": "code",
   "execution_count": 1,
   "metadata": {},
   "outputs": [
    {
     "name": "stdout",
     "output_type": "stream",
     "text": [
      "Training on cuda.\n"
     ]
    }
   ],
   "source": [
    "# Setup environment\n",
    "from matplotlib import pyplot as plt\n",
    "import numpy as np\n",
    "import torch\n",
    "import torch.nn as nn\n",
    "import torch.nn.functional as F\n",
    "from torchvision import datasets, transforms\n",
    "import torch.optim as optim\n",
    "device = torch.device('cuda' if torch.cuda.is_available()\n",
    "                     else torch.device('cpu'))\n",
    "print(f\"Training on {device}.\")"
   ]
  },
  {
   "cell_type": "code",
   "execution_count": 2,
   "metadata": {},
   "outputs": [],
   "source": [
    "# load data\n",
    "batch_size=128\n",
    "\n",
    "# Note that the MNIST dataset takes values between 0 and 1. \n",
    "# There is no need to further normalize them. \n",
    "# (In the training loss, we treat the pixel values as the probability)\n",
    "train_loader = torch.utils.data.DataLoader(\n",
    "    datasets.MNIST('../MNIST_data', train=True, download=False,\n",
    "                    transform=transforms.Compose([\n",
    "                        transforms.ToTensor(),\n",
    "                   ])),\n",
    "    batch_size=batch_size, shuffle=True)\n",
    "test_loader = torch.utils.data.DataLoader(\n",
    "    datasets.MNIST('../MNIST_data', train=False, download=False,\n",
    "                    transform=transforms.Compose([\n",
    "                        transforms.ToTensor(),\n",
    "                    ])),\n",
    "    batch_size=batch_size, shuffle=True)"
   ]
  },
  {
   "cell_type": "code",
   "execution_count": 3,
   "metadata": {},
   "outputs": [],
   "source": [
    "# create VAE model\n",
    "class VAE(nn.Module):\n",
    "    def __init__(self,x_dim,h1_dim,z_dim):\n",
    "        super().__init__()\n",
    "        # Encoder with single hidden layer (Need to output mean and log variance)\n",
    "        self.fc1 = nn.Linear(x_dim,h1_dim) \n",
    "        self.fc2 = nn.Linear(h1_dim,z_dim) \n",
    "        self.fc3 = nn.Linear(h1_dim,z_dim)\n",
    "        # Decoder with single hidden layer \n",
    "        self.fc4 = nn.Linear(z_dim,h1_dim)\n",
    "        self.fc5 = nn.Linear(h1_dim,x_dim)\n",
    "        \n",
    "    def encoder(self,x):\n",
    "        h = F.relu(self.fc1(x))\n",
    "        mu = self.fc2(h)\n",
    "        log_var = self.fc3(h)\n",
    "        return mu, log_var\n",
    "    \n",
    "    def decoder(self,z):\n",
    "        h = F.relu(self.fc4(z))\n",
    "        x_prob = torch.sigmoid(self.fc5(h))\n",
    "        return x_prob\n",
    "    \n",
    "    def z_sample(self, mu, log_var):\n",
    "        std = torch.exp(log_var/2.)\n",
    "        eps = torch.randn_like(std)\n",
    "        return eps*std+mu\n",
    "    \n",
    "    def forward(self,x):\n",
    "        mu,log_var = self.encoder(x.view(-1,28*28))\n",
    "        z = self.z_sample(mu,log_var)\n",
    "        x_prob = self.decoder(z)\n",
    "        return x_prob, mu, log_var\n",
    "model = VAE(x_dim=28*28,h1_dim = 500,z_dim=2).to(device)"
   ]
  },
  {
   "cell_type": "code",
   "execution_count": 4,
   "metadata": {},
   "outputs": [],
   "source": [
    "# define loss function\n",
    "def loss_fn(x,x_prob,mu,log_var):\n",
    "    recon_error = F.binary_cross_entropy(x_prob,x.view(-1,28*28),reduction='sum')\n",
    "    KL_loss = -0.5*torch.sum(1.+log_var-mu**2-torch.exp(log_var))\n",
    "    return recon_error + KL_loss"
   ]
  },
  {
   "cell_type": "code",
   "execution_count": 5,
   "metadata": {},
   "outputs": [],
   "source": [
    "# train using Adam\n",
    "optimizer = optim.Adam(model.parameters(), lr = 1e-3)\n",
    "def train_VAE(n_epochs, optimizer, model, loss_fn, train_loader,test=False):\n",
    "    \"\"\"If test == True, also computes test loss\"\"\"\n",
    "    from tqdm import tqdm\n",
    "    trn_loss_list = []\n",
    "    test_loss_list = []\n",
    "    batch_size_trn = train_loader.batch_size\n",
    "    batch_num_trn = train_loader.__len__()\n",
    "    batch_size_test = test_loader.batch_size\n",
    "    batch_num_test = test_loader.__len__()\n",
    "    for epoch in range(1, n_epochs+1):\n",
    "        model.train()\n",
    "        loss_train = 0.\n",
    "        for imgs, _ in tqdm(train_loader,desc=f'training/epoch: {epoch} of {n_epochs}'):\n",
    "            imgs = imgs.to(device)\n",
    "            x_prob, mu, log_var = model(imgs)\n",
    "            loss = loss_fn(imgs,x_prob,mu,log_var)\n",
    "            optimizer.zero_grad()\n",
    "            loss.backward()\n",
    "            optimizer.step()\n",
    "            loss_train+=loss.item()\n",
    "        trn_loss_list.append(loss_train/(batch_size_trn*batch_num_trn))\n",
    "\n",
    "        if test:\n",
    "            with torch.no_grad():\n",
    "                model.eval()\n",
    "                loss_test = 0.\n",
    "                for imgs, _ in tqdm(test_loader, desc=f'test/epoch: {epoch} of {n_epochs}'):\n",
    "                    imgs = imgs.to(device)\n",
    "                    x_prob, mu, log_var = model(imgs)\n",
    "                    loss = loss_fn(imgs,x_prob,mu,log_var)\n",
    "                    loss_test += loss.item()\n",
    "                test_loss_list.append(loss_test/(batch_size_test*batch_num_test))\n",
    "    return trn_loss_list, test_loss_list"
   ]
  },
  {
   "cell_type": "code",
   "execution_count": 6,
   "metadata": {},
   "outputs": [
    {
     "name": "stderr",
     "output_type": "stream",
     "text": [
      "training/epoch: 1 of 30: 100%|███████████████| 469/469 [00:15<00:00, 29.41it/s]\n",
      "test/epoch: 1 of 30: 100%|█████████████████████| 79/79 [00:01<00:00, 63.59it/s]\n",
      "training/epoch: 2 of 30: 100%|███████████████| 469/469 [00:15<00:00, 30.57it/s]\n",
      "test/epoch: 2 of 30: 100%|█████████████████████| 79/79 [00:01<00:00, 67.97it/s]\n",
      "training/epoch: 3 of 30: 100%|███████████████| 469/469 [00:15<00:00, 30.74it/s]\n",
      "test/epoch: 3 of 30: 100%|█████████████████████| 79/79 [00:01<00:00, 66.82it/s]\n",
      "training/epoch: 4 of 30: 100%|███████████████| 469/469 [00:15<00:00, 30.90it/s]\n",
      "test/epoch: 4 of 30: 100%|█████████████████████| 79/79 [00:01<00:00, 60.43it/s]\n",
      "training/epoch: 5 of 30: 100%|███████████████| 469/469 [00:15<00:00, 30.15it/s]\n",
      "test/epoch: 5 of 30: 100%|█████████████████████| 79/79 [00:01<00:00, 66.65it/s]\n",
      "training/epoch: 6 of 30: 100%|███████████████| 469/469 [00:15<00:00, 29.91it/s]\n",
      "test/epoch: 6 of 30: 100%|█████████████████████| 79/79 [00:01<00:00, 67.79it/s]\n",
      "training/epoch: 7 of 30: 100%|███████████████| 469/469 [00:15<00:00, 30.09it/s]\n",
      "test/epoch: 7 of 30: 100%|█████████████████████| 79/79 [00:01<00:00, 66.43it/s]\n",
      "training/epoch: 8 of 30: 100%|███████████████| 469/469 [00:15<00:00, 30.29it/s]\n",
      "test/epoch: 8 of 30: 100%|█████████████████████| 79/79 [00:01<00:00, 66.48it/s]\n",
      "training/epoch: 9 of 30: 100%|███████████████| 469/469 [00:15<00:00, 31.17it/s]\n",
      "test/epoch: 9 of 30: 100%|█████████████████████| 79/79 [00:01<00:00, 71.41it/s]\n",
      "training/epoch: 10 of 30: 100%|██████████████| 469/469 [00:15<00:00, 30.39it/s]\n",
      "test/epoch: 10 of 30: 100%|████████████████████| 79/79 [00:01<00:00, 65.82it/s]\n",
      "training/epoch: 11 of 30: 100%|██████████████| 469/469 [00:15<00:00, 30.79it/s]\n",
      "test/epoch: 11 of 30: 100%|████████████████████| 79/79 [00:01<00:00, 65.49it/s]\n",
      "training/epoch: 12 of 30: 100%|██████████████| 469/469 [00:15<00:00, 30.85it/s]\n",
      "test/epoch: 12 of 30: 100%|████████████████████| 79/79 [00:01<00:00, 70.90it/s]\n",
      "training/epoch: 13 of 30: 100%|██████████████| 469/469 [00:15<00:00, 30.65it/s]\n",
      "test/epoch: 13 of 30: 100%|████████████████████| 79/79 [00:01<00:00, 68.38it/s]\n",
      "training/epoch: 14 of 30: 100%|██████████████| 469/469 [00:14<00:00, 31.50it/s]\n",
      "test/epoch: 14 of 30: 100%|████████████████████| 79/79 [00:01<00:00, 71.28it/s]\n",
      "training/epoch: 15 of 30: 100%|██████████████| 469/469 [00:15<00:00, 30.64it/s]\n",
      "test/epoch: 15 of 30: 100%|████████████████████| 79/79 [00:01<00:00, 68.62it/s]\n",
      "training/epoch: 16 of 30: 100%|██████████████| 469/469 [00:15<00:00, 31.18it/s]\n",
      "test/epoch: 16 of 30: 100%|████████████████████| 79/79 [00:01<00:00, 70.90it/s]\n",
      "training/epoch: 17 of 30: 100%|██████████████| 469/469 [00:15<00:00, 30.87it/s]\n",
      "test/epoch: 17 of 30: 100%|████████████████████| 79/79 [00:01<00:00, 62.73it/s]\n",
      "training/epoch: 18 of 30: 100%|██████████████| 469/469 [00:15<00:00, 30.80it/s]\n",
      "test/epoch: 18 of 30: 100%|████████████████████| 79/79 [00:01<00:00, 70.90it/s]\n",
      "training/epoch: 19 of 30: 100%|██████████████| 469/469 [00:15<00:00, 30.58it/s]\n",
      "test/epoch: 19 of 30: 100%|████████████████████| 79/79 [00:01<00:00, 66.88it/s]\n",
      "training/epoch: 20 of 30: 100%|██████████████| 469/469 [00:15<00:00, 30.65it/s]\n",
      "test/epoch: 20 of 30: 100%|████████████████████| 79/79 [00:01<00:00, 63.74it/s]\n",
      "training/epoch: 21 of 30: 100%|██████████████| 469/469 [00:15<00:00, 30.03it/s]\n",
      "test/epoch: 21 of 30: 100%|████████████████████| 79/79 [00:01<00:00, 71.47it/s]\n",
      "training/epoch: 22 of 30: 100%|██████████████| 469/469 [00:15<00:00, 30.38it/s]\n",
      "test/epoch: 22 of 30: 100%|████████████████████| 79/79 [00:01<00:00, 66.37it/s]\n",
      "training/epoch: 23 of 30: 100%|██████████████| 469/469 [00:15<00:00, 29.62it/s]\n",
      "test/epoch: 23 of 30: 100%|████████████████████| 79/79 [00:01<00:00, 68.68it/s]\n",
      "training/epoch: 24 of 30: 100%|██████████████| 469/469 [00:15<00:00, 31.23it/s]\n",
      "test/epoch: 24 of 30: 100%|████████████████████| 79/79 [00:01<00:00, 67.45it/s]\n",
      "training/epoch: 25 of 30: 100%|██████████████| 469/469 [00:15<00:00, 30.22it/s]\n",
      "test/epoch: 25 of 30: 100%|████████████████████| 79/79 [00:01<00:00, 69.04it/s]\n",
      "training/epoch: 26 of 30: 100%|██████████████| 469/469 [00:15<00:00, 30.98it/s]\n",
      "test/epoch: 26 of 30: 100%|████████████████████| 79/79 [00:01<00:00, 64.95it/s]\n",
      "training/epoch: 27 of 30: 100%|██████████████| 469/469 [00:14<00:00, 31.57it/s]\n",
      "test/epoch: 27 of 30: 100%|████████████████████| 79/79 [00:01<00:00, 66.37it/s]\n",
      "training/epoch: 28 of 30: 100%|██████████████| 469/469 [00:15<00:00, 31.25it/s]\n",
      "test/epoch: 28 of 30: 100%|████████████████████| 79/79 [00:01<00:00, 65.22it/s]\n",
      "training/epoch: 29 of 30: 100%|██████████████| 469/469 [00:15<00:00, 31.22it/s]\n",
      "test/epoch: 29 of 30: 100%|████████████████████| 79/79 [00:01<00:00, 61.94it/s]\n",
      "training/epoch: 30 of 30: 100%|██████████████| 469/469 [00:15<00:00, 30.09it/s]\n",
      "test/epoch: 30 of 30: 100%|████████████████████| 79/79 [00:01<00:00, 64.79it/s]\n"
     ]
    }
   ],
   "source": [
    "train_loss_list, test_loss_list = train_VAE(n_epochs=30,optimizer=optimizer,model=model,loss_fn=loss_fn,train_loader=train_loader,test=True)"
   ]
  },
  {
   "cell_type": "code",
   "execution_count": 7,
   "metadata": {},
   "outputs": [
    {
     "data": {
      "image/png": "[encoded data removed]",
      "text/plain": [
       "<Figure size 792x360 with 2 Axes>"
      ]
     },
     "metadata": {
      "needs_background": "light"
     },
     "output_type": "display_data"
    }
   ],
   "source": [
    "fig, ax = plt.subplots(nrows=1,ncols=2,figsize=(11,5))\n",
    "\n",
    "ax[0].plot(range(1,len(train_loss_list)+1),train_loss_list,'.r', label='train', markersize=8)\n",
    "ax[0].set_ylabel('train loss')\n",
    "ax[0].set_xlabel('epoch')\n",
    "ax[0].legend()\n",
    "ax[1].plot(range(1,len(test_loss_list)+1),test_loss_list, '.b',label='test', markersize=8)\n",
    "ax[1].set_ylabel('test loss')\n",
    "ax[1].set_xlabel('epoch')\n",
    "ax[1].legend()\n",
    "plt.tight_layout()\n",
    "# plt.savefig('VAE_loss.pdf',format='pdf')"
   ]
  },
  {
   "cell_type": "code",
   "execution_count": 8,
   "metadata": {},
   "outputs": [
    {
     "data": {
      "text/plain": [
       "<All keys matched successfully>"
      ]
     },
     "execution_count": 8,
     "metadata": {},
     "output_type": "execute_result"
    }
   ],
   "source": [
    "# to save and load model\n",
    "model_path = 'VAE_MNIST.pth'\n",
    "torch.save(model.state_dict(), model_path)\n",
    "model_load=VAE(x_dim=28*28,h1_dim = 500,z_dim=2)\n",
    "model_load.load_state_dict(torch.load(model_path))"
   ]
  },
  {
   "cell_type": "code",
   "execution_count": 9,
   "metadata": {},
   "outputs": [],
   "source": [
    "def reconstruct_img(model,test_loader,n_img):\n",
    "    model.eval()\n",
    "    from torchvision.utils import save_image\n",
    "    with torch.no_grad():\n",
    "        for imgs, label in test_loader:\n",
    "            imgs = imgs.to(device)\n",
    "            save_image(imgs[:n_img], f'original_{list(np.array(label[:n_img]))}.pdf')\n",
    "            x_prob, mu, log_var = model(imgs[:n_img])\n",
    "            save_image(x_prob.view(-1,1,28,28),f'reconstructed_{list(np.array(label[:n_img]))}.pdf')\n",
    "            break"
   ]
  },
  {
   "cell_type": "code",
   "execution_count": 10,
   "metadata": {},
   "outputs": [],
   "source": [
    "reconstruct_img(model=model,test_loader=test_loader,n_img=10)"
   ]
  },
  {
   "cell_type": "code",
   "execution_count": null,
   "metadata": {},
   "outputs": [],
   "source": []
  }
 ],
 "metadata": {
  "kernelspec": {
   "display_name": "Python 3",
   "language": "python",
   "name": "python3"
  },
  "language_info": {
   "codemirror_mode": {
    "name": "ipython",
    "version": 3
   },
   "file_extension": ".py",
   "mimetype": "text/x-python",
   "name": "python",
   "nbconvert_exporter": "python",
   "pygments_lexer": "ipython3",
   "version": "3.7.6"
  }
 },
 "nbformat": 4,
 "nbformat_minor": 4
}
